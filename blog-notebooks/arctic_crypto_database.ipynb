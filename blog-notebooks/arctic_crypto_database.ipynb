{
 "cells": [
  {
   "cell_type": "markdown",
   "metadata": {},
   "source": [
    "There are many reasons why you should create your own stock database. You have your data always accessible and your able to conduct backtests ([e.g. with the bt package](http://pmorissette.github.io/bt/), maybe i will write about it someday, it's really cool!), to name two of them. The arctic package which is developed by Man AHL provides everything we need for our purposes. Arctic is a high performance datastore for numeric data. It supports Pandas, numpy arrays and pickled objects out-of-the-box, with pluggable support for other data types and optional versioning. It can query millions of rows per second per client, achieves ~10x compression on network bandwidth, ~10x compression on disk, and scales to hundreds of millions of rows per second per MongoDB instance. As a Pythonist, what more do  you need? Visit the [arctic page](https://github.com/manahl/arctic) for more details or the installation instructions. Now, I want to create a database with trade data of some of the most popular cryptocurrencies traded at the [kraken exchange](https://www.kraken.com). So, first we import the necessery packages, connect to the kraken API and initialize the mongodb."
   ]
  },
  {
   "cell_type": "code",
   "execution_count": 1,
   "metadata": {},
   "outputs": [
    {
     "name": "stderr",
     "output_type": "stream",
     "text": [
      "Couldn't import cython lz4\n",
      "Library created, but couldn't enable sharding: no such command: 'enablesharding', bad cmd: '{ enablesharding: \"arctic\" }'. This is OK if you're not 'admin'\n"
     ]
    }
   ],
   "source": [
    "import urllib\n",
    "import json\n",
    "import time\n",
    "import pandas as pd\n",
    "import datetime\n",
    "from arctic import Arctic\n",
    "import arctic\n",
    "import subprocess\n",
    "import platform\n",
    "import os\n",
    "import krakenex\n",
    "if platform.system() == \"Darwin\":\n",
    "    os.chdir('/users/'+os.getlogin()+'/MEGA/App')\n",
    "if platform.system() == \"Darwin\":\n",
    "\tsubprocess.Popen(['/usr/local/bin/mongod', '--dbpath', '/users/'+os.getlogin()+'/MEGA/App/cryptodb', '--logpath', '/users/'+os.getlogin()+'/MEGA/App/cryptodb/krakendb.log', '--fork']) \n",
    "k = krakenex.API()\n",
    "k.load_key('kraken.key')\n",
    "\n",
    "# Connect to Local MONGODB\n",
    "krakendb = Arctic('localhost')\n",
    "\n",
    "# Create the library - defaults to VersionStore\n",
    "krakendb.initialize_library('Kraken')\n",
    "# Access the library\n",
    "kraken = krakendb['Kraken']\n"
   ]
  },
  {
   "cell_type": "markdown",
   "metadata": {},
   "source": [
    "The [kraken API](https://github.com/veox/python3-krakenex) can be installed via pip: `pip install krakenex`. It contains public commands like gettting OHLC data, the order book or recent trades. There is also the possibility to execute private commands like adding standard orders. For that you need to create a key file with your API key and your secret. Visit the [Kraken API page](https://www.kraken.com/help/api) for more details.\n",
    "\n",
    "Next we define the functions to import the data, get information about the data,which is already in the database or to get current account balance. Note here that I found it was about 2 times faster to access public data via [https://api.kraken.com/0/public](https://api.kraken.com/0/public) than via the krakenex API, thats why I didn't use it here. Another remark: The Kraken API has a built-in call rate limit in place to protect against DoS attacks and order book manipulation. So, it's only possible to make a call every 2 or 3 seconds, Therefore, there is this `time.sleep(3)` to pause the function, which imports the trade data for 3 seconds. Actually, this is a pity because it slows the function down by huge amount of time."
   ]
  },
  {
   "cell_type": "code",
   "execution_count": 2,
   "metadata": {
    "collapsed": true
   },
   "outputs": [],
   "source": [
    "def updateTickData(pairs, db):\n",
    "    s = '\\n Begin import of '+', '.join(pairs[0:len(pairs)-1])+' and '+pairs[-1]+'\\n This could take some time! \\n'\t\n",
    "    print(s)\t\n",
    "    tickdata_collection = {}\t\n",
    "    for pair in pairs:\n",
    "        print(pair+': ')\n",
    "        tickdata_collection[pair]=get_all_kraken_trades(pair, db = kraken)\n",
    "    s = '\\nAll Pairs are up do date now!\\n'\t\n",
    "    print(s)\t\t\n",
    "    return tickdata_collection\n",
    "\n",
    "        \n",
    "def getInfo(db):\n",
    "    infolist = kraken.list_versions()\n",
    "    s = '\\n Last updates: \\n'\n",
    "    print(s)\n",
    "    for list in infolist:\n",
    "        s = list['symbol']+' updated at ' + list['date'].strftime('%Y-%m-%d %H:%M:%S')+ ', Version: '+ str(list['version'])+'\\n'\n",
    "        print(s)\n",
    "    snapshots =  kraken.list_snapshots()\n",
    "    s = '\\n Last snapshots: \\n'\n",
    "    print(s)\n",
    "    for list in snapshots:\n",
    "        s = list+'\\n'\n",
    "        print(s)    \n",
    "\n",
    "def get_all_kraken_trades(pair, since = None, db = None):\n",
    "    \"\"\"\n",
    "    Input: \n",
    "        pair = pair name\n",
    "        since = unix datestamp, default is None (imports every trade from the beginning, this could take a long time)\n",
    "    Output:\n",
    "        Pandas DataFrame\n",
    "    \"\"\"\n",
    "    history = pd.DataFrame( columns = ['price', 'volume', 'time', 'buy/sell', 'market/limit'])\n",
    "    if pair in db.list_symbols():\n",
    "        since = db.read(pair).metadata['last']     \n",
    "    elif since == None:\n",
    "        since = 0 \n",
    "    try:\n",
    "        while True:    \n",
    "            data = urllib.request.urlopen(\"https://api.kraken.com/0/public/Trades?pair=\"+pair+\"&since=\"+str(since)).read()\n",
    "            data = data.decode()\n",
    "            data = json.loads(data)\n",
    "            last = int(data['result']['last'])\n",
    "            data = data['result'][pair]\n",
    "            data = pd.DataFrame(data)\n",
    "            if data.empty:\n",
    "                break\n",
    "            dates = [datetime.datetime.fromtimestamp(ts) for ts in (data[2].values)]\n",
    "            data.index = pd.DatetimeIndex(dates)\n",
    "            data = data.iloc[:,0:5]\n",
    "            data.iloc[:,0:3] = data.iloc[:,0:3].astype(float)\n",
    "            data.columns = ['price', 'volume', 'time', 'buy/sell', 'market/limit']\n",
    "            history = history.append(data) #ignore_index=True) \n",
    "            since = last\n",
    "            print('imported data until: '+history.index[-1].strftime('%Y-%m-%d %H:%M:%S'))\n",
    "            time.sleep(3)\n",
    "    except Exception as e:\n",
    "            print(str(e))\n",
    "    db.append(pair, history, metadata={'last': last, 'source': 'Kraken'})\n",
    "    time.sleep(2)\n",
    "    alltrades = db.read(pair).data\n",
    "    return alltrades\n",
    "\n",
    "def get_kraken_balance(db = None):\n",
    "    balance = k.query_private('Balance')['result']\n",
    "    df = pd.DataFrame(list(balance.items()))\n",
    "    df = df.transpose()\n",
    "    df.columns = df.iloc[0]\n",
    "    df = df.reindex(df.index.drop(0))\n",
    "    df = df.astype(float)\n",
    "    last = datetime.datetime.now()\n",
    "    df.index = pd.DatetimeIndex([last])\n",
    "    if db:\n",
    "        db.append('Balance', df, metadata={'last': last, 'source': 'Kraken'})\n",
    "        allbalance = db.read('Balance').data\n",
    "        return df, allbalance\n",
    "    else:\n",
    "        return df\n",
    "    \n",
    "def add_kraken_order(pair, buysell, ordertype, volume, **kwargs  ):\n",
    "    '''\n",
    "    Input:\n",
    "        pair = asset pair\n",
    "        buysell = type of order (buy/sell)\n",
    "        ordertype = order type:\n",
    "            market\n",
    "            limit (price = limit price)\n",
    "            stop-loss (price = stop loss price)\n",
    "            take-profit (price = take profit price)\n",
    "            stop-loss-profit (price = stop loss price, price2 = take profit price)\n",
    "            stop-loss-profit-limit (price = stop loss price, price2 = take profit price)\n",
    "            stop-loss-limit (price = stop loss trigger price, price2 = triggered limit price)\n",
    "            take-profit-limit (price = take profit trigger price, price2 = triggered limit price)\n",
    "            trailing-stop (price = trailing stop offset)\n",
    "            trailing-stop-limit (price = trailing stop offset, price2 = triggered limit offset)\n",
    "            stop-loss-and-limit (price = stop loss price, price2 = limit price)\n",
    "            settle-position\n",
    "        price = price (optional.  dependent upon ordertype)\n",
    "        price2 = secondary price (optional.  dependent upon ordertype)\n",
    "        volume = order volume in lots\n",
    "        leverage = amount of leverage desired (optional.  default = none)\n",
    "        oflags = comma delimited list of order flags (optional):\n",
    "            viqc = volume in quote currency (not available for leveraged orders)\n",
    "            fcib = prefer fee in base currency\n",
    "            fciq = prefer fee in quote currency\n",
    "            nompp = no market price protection\n",
    "            post = post only order (available when ordertype = limit)\n",
    "        starttm = scheduled start time (optional):\n",
    "            0 = now (default)\n",
    "            +<n> = schedule start time <n> seconds from now\n",
    "            <n> = unix timestamp of start time\n",
    "        expiretm = expiration time (optional):\n",
    "            0 = no expiration (default)\n",
    "            +<n> = expire <n> seconds from now\n",
    "            <n> = unix timestamp of expiration time\n",
    "        userref = user reference id.  32-bit signed number.  (optional)\n",
    "        validate = validate inputs only.  do not submit order (optional)\n",
    "\n",
    "        optional closing order to add to system when order gets filled:\n",
    "            close[ordertype] = order type\n",
    "            close[price] = price\n",
    "            close[price2] = secondary price\n",
    "            \n",
    "            \n",
    "    Output:\n",
    "        descr = order description info\n",
    "            order = order description\n",
    "            close = conditional close order description (if conditional close set)\n",
    "        txid = array of transaction ids for order (if order was added successfully)\n",
    "    '''       \n",
    "    orderinfo = k.query_private('AddOrder', {'pair': pair,'type' : buysell, \n",
    "                                 'ordertype' : ordertype, 'volume' : volume,\n",
    "                                  **kwargs   })\n",
    "    if bool(orderinfo['error']):\n",
    "        raise Exception(orderinfo['error'])\n",
    "    return orderinfo['result']['txid'], orderinfo['result']['descr']"
   ]
  },
  {
   "cell_type": "markdown",
   "metadata": {},
   "source": [
    "Let's now run the functions to see what happens:"
   ]
  },
  {
   "cell_type": "code",
   "execution_count": 3,
   "metadata": {},
   "outputs": [
    {
     "data": {
      "text/html": [
       "<div>\n",
       "<table border=\"1\" class=\"dataframe\">\n",
       "  <thead>\n",
       "    <tr style=\"text-align: right;\">\n",
       "      <th></th>\n",
       "      <th>XETH</th>\n",
       "      <th>XETC</th>\n",
       "      <th>XZEC</th>\n",
       "      <th>XXRP</th>\n",
       "      <th>XXBT</th>\n",
       "      <th>ZEUR</th>\n",
       "      <th>XDAO</th>\n",
       "    </tr>\n",
       "  </thead>\n",
       "  <tbody>\n",
       "    <tr>\n",
       "      <th>2017-06-04 16:37:44.934286</th>\n",
       "      <td>2.75</td>\n",
       "      <td>7.200000e-09</td>\n",
       "      <td>0.0</td>\n",
       "      <td>216.0</td>\n",
       "      <td>0.0</td>\n",
       "      <td>49.4045</td>\n",
       "      <td>0.0</td>\n",
       "    </tr>\n",
       "  </tbody>\n",
       "</table>\n",
       "</div>"
      ],
      "text/plain": [
       "0                           XETH          XETC  XZEC   XXRP  XXBT     ZEUR  \\\n",
       "2017-06-04 16:37:44.934286  2.75  7.200000e-09   0.0  216.0   0.0  49.4045   \n",
       "\n",
       "0                           XDAO  \n",
       "2017-06-04 16:37:44.934286   0.0  "
      ]
     },
     "execution_count": 3,
     "metadata": {},
     "output_type": "execute_result"
    }
   ],
   "source": [
    "get_kraken_balance()"
   ]
  },
  {
   "cell_type": "markdown",
   "metadata": {},
   "source": [
    "The function `get_kraken_balance()` returns a pandas Dataframe with the current balance. If you give the function your arctic database as input, the balance will be saved in the database and it also returns a Dataframe with all your past balance(if you've saved it in your database)"
   ]
  },
  {
   "cell_type": "code",
   "execution_count": 4,
   "metadata": {
    "scrolled": true
   },
   "outputs": [
    {
     "name": "stdout",
     "output_type": "stream",
     "text": [
      "\n",
      " Last updates: \n",
      "\n",
      "Balance updated at 2017-06-03 13:44:27, Version: 574\n",
      "\n",
      "Balance updated at 2017-06-03 12:44:19, Version: 573\n",
      "\n",
      "Balance updated at 2017-06-03 11:44:10, Version: 572\n",
      "\n",
      "Balance updated at 2017-06-01 04:32:59, Version: 517\n",
      "\n",
      "XETHZEUR updated at 2017-06-04 14:07:30, Version: 558\n",
      "\n",
      "XETHZEUR updated at 2017-06-04 13:36:04, Version: 557\n",
      "\n",
      "XETHZEUR updated at 2017-06-03 23:37:48, Version: 556\n",
      "\n",
      "XETHZEUR updated at 2017-06-02 03:39:09, Version: 512\n",
      "\n",
      "XETHZEUR updated at 2017-05-02 17:34:01, Version: 1\n",
      "\n",
      "XXBTZEUR updated at 2017-06-04 14:07:41, Version: 23\n",
      "\n",
      "XXBTZEUR updated at 2017-06-04 13:37:09, Version: 22\n",
      "\n",
      "XXBTZEUR updated at 2017-06-03 23:37:59, Version: 21\n",
      "\n",
      "XXBTZEUR updated at 2017-06-03 18:33:55, Version: 15\n",
      "\n",
      "XXBTZEUR updated at 2017-05-02 17:32:29, Version: 2\n",
      "\n",
      "XXRPZEUR updated at 2017-06-04 14:08:02, Version: 7\n",
      "\n",
      "XXRPZEUR updated at 2017-06-04 13:37:37, Version: 6\n",
      "\n",
      "XXRPZEUR updated at 2017-06-03 23:38:11, Version: 5\n",
      "\n",
      "XXRPZEUR updated at 2017-06-03 19:33:59, Version: 1\n",
      "\n",
      "XZECZEUR updated at 2017-06-04 14:07:52, Version: 28\n",
      "\n",
      "XZECZEUR updated at 2017-06-04 13:37:20, Version: 27\n",
      "\n",
      "XZECZEUR updated at 2017-06-03 23:36:48, Version: 26\n",
      "\n",
      "XZECZEUR updated at 2017-06-03 18:38:12, Version: 22\n",
      "\n",
      "XZECZEUR updated at 2017-05-02 17:35:39, Version: 1\n",
      "\n",
      "\n",
      " Last snapshots: \n",
      "\n",
      "InitialDB_02-05-2017\n",
      "\n"
     ]
    }
   ],
   "source": [
    "getInfo(kraken)"
   ]
  },
  {
   "cell_type": "markdown",
   "metadata": {},
   "source": [
    "`getInfo(db)` prints among three others the last version of all items in the database with the exact date. It's also possible to snapshot your databse. This function will also print the snapshots you've created so far. \n",
    "\n",
    "Now the main function in this post is `updateTickData(pairs, db)`. Basically, for each pair in the list \"pairs\", it looks into the databse for the last imported values and fetches the values henceforward. Otherwise it begins from the beginning if no starting value is passed. Besides the previously mentioned reason why it takes so long time to import all the trades, there is another one which is quite time consuming. That is for every loop iteration you can only import up to 1000 trades. I think to have all the trades in our database we have to go through it, but if you have a quicker solution, I would be a happy recipient. "
   ]
  },
  {
   "cell_type": "code",
   "execution_count": 5,
   "metadata": {},
   "outputs": [
    {
     "name": "stdout",
     "output_type": "stream",
     "text": [
      "\n",
      " Begin import of XETHZEUR, XXBTZEUR, XZECZEUR and XXRPZEUR\n",
      " This could take some time! \n",
      "\n",
      "XETHZEUR: \n",
      "imported data until: 2017-06-04 15:05:14\n",
      "imported data until: 2017-06-04 15:29:43\n",
      "imported data until: 2017-06-04 15:46:33\n",
      "imported data until: 2017-06-04 16:13:08\n",
      "imported data until: 2017-06-04 16:38:27\n",
      "imported data until: 2017-06-04 16:38:33\n",
      "XXBTZEUR: \n",
      "imported data until: 2017-06-04 15:09:16\n",
      "imported data until: 2017-06-04 15:52:23\n",
      "imported data until: 2017-06-04 16:25:13\n",
      "imported data until: 2017-06-04 16:38:56\n",
      "XZECZEUR: \n",
      "imported data until: 2017-06-04 16:39:07\n",
      "XXRPZEUR: \n",
      "imported data until: 2017-06-04 16:38:57\n",
      "\n",
      "All Pairs are up do date now!\n",
      "\n"
     ]
    }
   ],
   "source": [
    "pairs = ['XETHZEUR','XXBTZEUR', 'XZECZEUR', 'XXRPZEUR']\n",
    "\n",
    "trades = updateTickData(pairs, kraken)"
   ]
  },
  {
   "cell_type": "markdown",
   "metadata": {},
   "source": [
    "As I have already most of the data in the database, it was quite quick to update it. `updateTickData(pairs, db)` returns a collection of pandas Dataframes containing all trades of the desired pairs. Let's have a look at the first few trades of the pair ETH/EUR. For every trade we have the price, volume, a unix timestamp, whether it was buy or sell and whether it was at the market or a limit order. "
   ]
  },
  {
   "cell_type": "code",
   "execution_count": 6,
   "metadata": {},
   "outputs": [
    {
     "data": {
      "text/html": [
       "<div>\n",
       "<table border=\"1\" class=\"dataframe\">\n",
       "  <thead>\n",
       "    <tr style=\"text-align: right;\">\n",
       "      <th></th>\n",
       "      <th>price</th>\n",
       "      <th>volume</th>\n",
       "      <th>time</th>\n",
       "      <th>buy/sell</th>\n",
       "      <th>market/limit</th>\n",
       "    </tr>\n",
       "    <tr>\n",
       "      <th>index</th>\n",
       "      <th></th>\n",
       "      <th></th>\n",
       "      <th></th>\n",
       "      <th></th>\n",
       "      <th></th>\n",
       "    </tr>\n",
       "  </thead>\n",
       "  <tbody>\n",
       "    <tr>\n",
       "      <th>2015-08-07 13:09:50.909800</th>\n",
       "      <td>20.000</td>\n",
       "      <td>4.500000</td>\n",
       "      <td>1.438946e+09</td>\n",
       "      <td>b</td>\n",
       "      <td>l</td>\n",
       "    </tr>\n",
       "    <tr>\n",
       "      <th>2015-08-07 13:09:51.236500</th>\n",
       "      <td>20.000</td>\n",
       "      <td>0.480000</td>\n",
       "      <td>1.438946e+09</td>\n",
       "      <td>b</td>\n",
       "      <td>l</td>\n",
       "    </tr>\n",
       "    <tr>\n",
       "      <th>2015-08-07 13:12:34.121200</th>\n",
       "      <td>20.000</td>\n",
       "      <td>3.372151</td>\n",
       "      <td>1.438946e+09</td>\n",
       "      <td>s</td>\n",
       "      <td>l</td>\n",
       "    </tr>\n",
       "    <tr>\n",
       "      <th>2015-08-07 13:25:12.641400</th>\n",
       "      <td>2.501</td>\n",
       "      <td>11.375440</td>\n",
       "      <td>1.438947e+09</td>\n",
       "      <td>s</td>\n",
       "      <td>l</td>\n",
       "    </tr>\n",
       "    <tr>\n",
       "      <th>2015-08-07 13:29:12.133200</th>\n",
       "      <td>2.501</td>\n",
       "      <td>0.000560</td>\n",
       "      <td>1.438947e+09</td>\n",
       "      <td>b</td>\n",
       "      <td>l</td>\n",
       "    </tr>\n",
       "  </tbody>\n",
       "</table>\n",
       "</div>"
      ],
      "text/plain": [
       "                             price     volume          time buy/sell  \\\n",
       "index                                                                  \n",
       "2015-08-07 13:09:50.909800  20.000   4.500000  1.438946e+09        b   \n",
       "2015-08-07 13:09:51.236500  20.000   0.480000  1.438946e+09        b   \n",
       "2015-08-07 13:12:34.121200  20.000   3.372151  1.438946e+09        s   \n",
       "2015-08-07 13:25:12.641400   2.501  11.375440  1.438947e+09        s   \n",
       "2015-08-07 13:29:12.133200   2.501   0.000560  1.438947e+09        b   \n",
       "\n",
       "                           market/limit  \n",
       "index                                    \n",
       "2015-08-07 13:09:50.909800            l  \n",
       "2015-08-07 13:09:51.236500            l  \n",
       "2015-08-07 13:12:34.121200            l  \n",
       "2015-08-07 13:25:12.641400            l  \n",
       "2015-08-07 13:29:12.133200            l  "
      ]
     },
     "execution_count": 6,
     "metadata": {},
     "output_type": "execute_result"
    }
   ],
   "source": [
    "trades['XETHZEUR'].head()"
   ]
  },
  {
   "cell_type": "markdown",
   "metadata": {},
   "source": [
    "What possibilities do we have, now that we can quickly load all the trades into the python workspace? For example we can do nice plots or with the Kraken API we can automate our trading strategies. The two following cells illustrate simple, such examples."
   ]
  },
  {
   "cell_type": "code",
   "execution_count": 7,
   "metadata": {},
   "outputs": [
    {
     "data": {
      "image/png": "[encoded data removed]"
     },
     "metadata": {},
     "output_type": "display_data"
    }
   ],
   "source": [
    "%matplotlib inline\n",
    "import matplotlib.dates as mdates\n",
    "import numpy as np\n",
    "from mpl_finance import candlestick_ohlc\n",
    "import matplotlib\n",
    "import matplotlib.pyplot as plt\n",
    "\n",
    "stop = datetime.datetime.now()\n",
    "start = stop-datetime.timedelta(days=90)\n",
    "mask = (trades['XETHZEUR'].index > start) & (trades['XETHZEUR'].index <= datetime.datetime.now())\n",
    "data = trades['XETHZEUR'].loc[mask]\n",
    "\n",
    "ohlc = data.price.resample('1D').ohlc().dropna().iloc[1:,:]\n",
    "volume = data.volume.resample('1D').sum().dropna().iloc[1:]\n",
    "dateStamp = np.array(ohlc.index).astype('datetime64[s]')\n",
    "dateStamp = dateStamp.tolist()\n",
    "df = pd.DataFrame({'Datetime':dateStamp})\n",
    "df['MPLDate'] = df['Datetime'].apply(lambda date: mdates.date2num(date.to_pydatetime()))\n",
    "df.index=dateStamp\n",
    "ohlc.insert(0,'MPLDate', df.MPLDate)\n",
    "\n",
    "fig=plt.figure(figsize=(17, 8))\n",
    "# Main Graph\n",
    "a = plt.subplot2grid((10,8), (0,0), rowspan = 8, colspan = 8)\n",
    "# Volume\n",
    "a2 = plt.subplot2grid((10,8), (8,0), sharex = a, rowspan = 2, colspan = 8)\n",
    "\n",
    "matplotlib.style.use(\"ggplot\")\n",
    "darkColor = \"#183A54\"\n",
    "lightColor = \"#00A3E0\"\n",
    "candlestick_ohlc(a, ohlc[['MPLDate', 'open', 'high', 'low', 'close']].astype(float).values, width=0.768, colorup=lightColor, colordown=darkColor)\n",
    "a.set_ylabel(\"Price\") \n",
    "a.xaxis.set_major_locator(matplotlib.ticker.MaxNLocator(3))\n",
    "a.xaxis.set_major_formatter(mdates.DateFormatter('%Y-%m-%d %H:%M'))               \n",
    "a2.set_ylabel(\"Volume\") \n",
    "a2.fill_between(ohlc.MPLDate,0, volume.astype(float), facecolor='#183A54')\n",
    "plt.setp(a.get_xticklabels(), visible=False)\n",
    "\n",
    "sma=ohlc['close'].rolling(window=10).mean()\n",
    "label = str(10)+\" SMA\"\n",
    "a.plot(ohlc['MPLDate'],sma, label=label)\n",
    "a.legend(loc=0)"
   ]
  },
  {
   "cell_type": "markdown",
   "metadata": {},
   "source": [
    "A nice thing is that we can customize our candlestick charts. We can choose the time frame(here the last 90 days) and with the pandas resample function we can create the desired ohlc data(here one day data). The `mpl_finance` module allows now to plot nice candlestick charts. It's also possible to plot some financial indicators like e.g. here a simple moving average. The same way as above we could add a MACD indicator for example. There is a library called [TA-Lib](http://ta-lib.org) which contains more than 200 indicators. It's worth to have a look at. Let's now look at one possibility to implement an automated trading strategy:"
   ]
  },
  {
   "cell_type": "code",
   "execution_count": 8,
   "metadata": {
    "collapsed": true
   },
   "outputs": [],
   "source": [
    "pairs = ['XXBTZEUR']\n",
    "import math\n",
    "import threading\n",
    "def automatedTradingStrategy():\n",
    "        fastMA = {}\n",
    "        slowMA = {}\n",
    "        mask = {}\n",
    "        tickdata_collection = {}\n",
    "        for pair in pairs:\n",
    "                actbalance, allbalance = get_kraken_balance(db = kraken)\n",
    "                tickdata_collection[pair]=get_all_kraken_trades(pair, db = kraken)\n",
    "                tickdata_collection[pair]=tickdata_collection[pair].price.resample('1H').ohlc().dropna().iloc[-241:-1,:]\n",
    "                fastMA[pair] = tickdata_collection[pair].close.ewm(span=120).mean()\n",
    "                slowMA[pair] = tickdata_collection[pair].close.ewm(span=240).mean()\n",
    "                mask[pair] = fastMA[pair][-1]>slowMA[pair]\n",
    "                if bool((actbalance.ZEUR.values >= 100) & (mask[pair][-1] == True)):\n",
    "                    txid, descr = add_kraken_order(pair, 'buy', 'market', math.floor(float(actbalance.ZEUR))/tickdata_collection[pair].close[-1])  \n",
    "                    print('New Order: ' +str(txid)+ '\\nInfo: ')\n",
    "                    print(descr)\n",
    "                elif bool((actbalance[pair[0:4]].values > 0) & (mask[pair][-1] == False)):\n",
    "                    txid, descr = gkd.add_kraken_order(pair, 'sell', 'market', int(actbalance[pair[0:4]].values) )\n",
    "                    print('New Order: ' +str(txid)+ '\\nInfo: ')\n",
    "                    print(descr)\n",
    "                else:\n",
    "                    print('Nothing new this hour!')\n",
    "        global t            \n",
    "        t = threading.Timer(3600, automatedTradingStrategy)\n",
    "        t.start()"
   ]
  },
  {
   "cell_type": "code",
   "execution_count": 9,
   "metadata": {},
   "outputs": [
    {
     "name": "stderr",
     "output_type": "stream",
     "text": [
      "/Users/anaconda/lib/python3.5/site-packages/arctic/store/_ndarray_store.py:237: FutureWarning: Assignment between structured arrays with different field names will change in numpy 1.13.\n",
      "\n",
      "Previously fields in the dst would be set to the value of the identically-named field in the src. In numpy 1.13 fields will instead be assigned 'by position': The Nth field of the dst will be set to the Nth field of the src array.\n",
      "\n",
      "See the release notes for details\n",
      "  old_arr = self._do_read(collection, previous_version, symbol).astype(dtype)\n"
     ]
    },
    {
     "name": "stdout",
     "output_type": "stream",
     "text": [
      "imported data until: 2017-06-04 16:40:42\n",
      "imported data until: 2017-06-04 16:40:48\n",
      "imported data until: 2017-06-04 16:40:55\n",
      "Nothing new this hour!\n"
     ]
    }
   ],
   "source": [
    "automatedTradingStrategy()"
   ]
  },
  {
   "cell_type": "markdown",
   "metadata": {},
   "source": [
    "This is a simple strategy just for the pair XBT/EUR but very complex strategies for more than one pair are also possible to code. This strategie states \"buy/hold\"  if the exponential moving average of 120 hours (5 days) is above the exponential moving average of 240 hours (10 days) and \"sell\" if it's below. With the threading module we can execute the function every hour, so that it first updates the latest trade data and computes the relevant conditions afterwards. Then when the conditions are met it buys or sells at the market or it holds the current positions. To stop the function just call `t.cancel()`. I'm sure there are plenty possibilities to implement automated trading, that's just one of them and I'm not sure if it is a good one. \n",
    "\n",
    "Be aware that the above strategy is very, very simple and will not guarantee any gains! "
   ]
  },
  {
   "cell_type": "code",
   "execution_count": 10,
   "metadata": {
    "collapsed": true
   },
   "outputs": [],
   "source": [
    "t.cancel()"
   ]
  }
 ],
 "metadata": {
  "kernelspec": {
   "display_name": "Python [conda root]",
   "language": "python",
   "name": "conda-root-py"
  },
  "language_info": {
   "codemirror_mode": {
    "name": "ipython",
    "version": 3
   },
   "file_extension": ".py",
   "mimetype": "text/x-python",
   "name": "python",
   "nbconvert_exporter": "python",
   "pygments_lexer": "ipython3",
   "version": "3.5.2"
  }
 },
 "nbformat": 4,
 "nbformat_minor": 2
}
